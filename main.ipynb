{
 "cells": [
  {
   "cell_type": "markdown",
   "metadata": {},
   "source": [
    "Fist we import the required modules."
   ]
  },
  {
   "cell_type": "code",
   "execution_count": 1,
   "metadata": {
    "colab": {},
    "colab_type": "code",
    "id": "3YAaLe0QEsP6"
   },
   "outputs": [],
   "source": [
    "import random\n",
    "import numpy as np\n",
    "\n",
    "%matplotlib inline\n",
    "import matplotlib.pyplot as plt\n",
    "from IPython import display\n",
    "\n",
    "from unityagents import UnityEnvironment\n",
    "from UnityDQNAgent import UnityDQNAgent"
   ]
  },
  {
   "cell_type": "markdown",
   "metadata": {},
   "source": [
    "Then we make a unity envionment and use it to create an agent."
   ]
  },
  {
   "cell_type": "code",
   "execution_count": 2,
   "metadata": {},
   "outputs": [
    {
     "name": "stderr",
     "output_type": "stream",
     "text": [
      "INFO:unityagents:\n",
      "'Academy' started successfully!\n",
      "Unity Academy name: Academy\n",
      "        Number of Brains: 1\n",
      "        Number of External Brains : 1\n",
      "        Lesson number : 0\n",
      "        Reset Parameters :\n",
      "\t\t\n",
      "Unity brain name: BananaBrain\n",
      "        Number of Visual Observations (per agent): 0\n",
      "        Vector Observation space type: continuous\n",
      "        Vector Observation space size (per agent): 37\n",
      "        Number of stacked Vector Observation: 1\n",
      "        Vector Action space type: discrete\n",
      "        Vector Action space size (per agent): 4\n",
      "        Vector Action descriptions: , , , \n"
     ]
    }
   ],
   "source": [
    "env = UnityEnvironment(file_name=\"Banana_Linux/Banana.x86_64\")\n",
    "\n",
    "brain_name = env.brain_names[0]\n",
    "brain = env.brains[brain_name]\n",
    "\n",
    "env_info = env.reset(train_mode=True)[brain_name]\n",
    "action_size = brain.vector_action_space_size\n",
    "state_size = len(env_info.vector_observations[0])"
   ]
  },
  {
   "cell_type": "code",
   "execution_count": 3,
   "metadata": {},
   "outputs": [],
   "source": [
    "hyperparams = { 'batch_size':500,   # minibatch size\n",
    "                'gamma':0.99,       # discount factor\n",
    "                'lr':1e-4,          # learning rate\n",
    "                'update_every':2,   # how often we update the target network\n",
    "                'tau':1e-3,         # weight for the soft update of the target network\n",
    "                'eps_start':0.9,\n",
    "                'eps_end':0.01, \n",
    "                'eps_decay':0.98,\n",
    "                'seed':2147483647 } # random seed\n",
    "\n",
    "agent = UnityDQNAgent(env, brain_name=brain_name, \\\n",
    "                        state_size=state_size, action_size=action_size, **hyperparams)"
   ]
  },
  {
   "cell_type": "markdown",
   "metadata": {},
   "source": [
    "The following function will be run at every episode. We use it to plot our progress and check if we have solved the game."
   ]
  },
  {
   "cell_type": "code",
   "execution_count": 4,
   "metadata": {},
   "outputs": [],
   "source": [
    "def is_finished(scores, num_episodes):\n",
    "    plot_every = 10\n",
    "    avg_every = 100\n",
    "    winning_threshold = 13\n",
    "    \n",
    "    i = len(scores)\n",
    "    finished = (i >= avg_every and np.mean(scores[i-avg_every:i]) >= winning_threshold)\n",
    "\n",
    "    if not finished and (i+1) % plot_every != 0: return False\n",
    "    \n",
    "    mean_scores = [np.mean(scores[max(0, j-avg_every+1):j+1]) for j in range(i)]\n",
    "    plt.plot(scores, color='red')\n",
    "    plt.plot(mean_scores, color='blue')\n",
    "    display.display(plt.gcf())\n",
    "    print(\"\\r Episode {}/{}\\tAverage Score: {:.2f}\".format(i+1, num_episodes, mean_scores[-1]), end=\"\")\n",
    "    display.clear_output(wait=True)\n",
    "    if finished:\n",
    "        print(\"\\r Finished in episode {}/{}\\tAverage Score: {:.2f}\".format(i+1, num_episodes, mean_scores[-1]))\n",
    "    return finished"
   ]
  },
  {
   "cell_type": "markdown",
   "metadata": {},
   "source": [
    "We can now train the agent"
   ]
  },
  {
   "cell_type": "code",
   "execution_count": 5,
   "metadata": {
    "colab": {
     "base_uri": "https://localhost:8080/",
     "height": 269
    },
    "colab_type": "code",
    "executionInfo": {
     "elapsed": 9,
     "status": "ok",
     "timestamp": 1569786071022,
     "user": {
      "displayName": "Mohammad Pedramfar",
      "photoUrl": "",
      "userId": "06489714970426098467"
     },
     "user_tz": -60
    },
    "id": "EsrLlmXFEsQS",
    "outputId": "f1b5e70d-01af-4110-e311-23f16c260e89",
    "scrolled": true
   },
   "outputs": [
    {
     "name": "stdout",
     "output_type": "stream",
     "text": [
      "\r",
      " Finished in episode 256/1000\tAverage Score: 13.05\n"
     ]
    },
    {
     "data": {
      "image/png": "[encoded data removed]",
      "text/plain": [
       "<Figure size 432x288 with 1 Axes>"
      ]
     },
     "metadata": {
      "needs_background": "light"
     },
     "output_type": "display_data"
    }
   ],
   "source": [
    "scores = agent.train(500, is_finished=is_finished)"
   ]
  },
  {
   "cell_type": "markdown",
   "metadata": {},
   "source": [
    "To observe the trained agent in action, we use the `agent.run()`"
   ]
  },
  {
   "cell_type": "code",
   "execution_count": 31,
   "metadata": {},
   "outputs": [
    {
     "data": {
      "text/plain": [
       "[16.0]"
      ]
     },
     "execution_count": 31,
     "metadata": {},
     "output_type": "execute_result"
    }
   ],
   "source": [
    "agent.run()"
   ]
  },
  {
   "cell_type": "code",
   "execution_count": null,
   "metadata": {},
   "outputs": [],
   "source": [
    "env.close()"
   ]
  }
 ],
 "metadata": {
  "accelerator": "GPU",
  "colab": {
   "collapsed_sections": [],
   "name": "LunarLander_DQL.ipynb",
   "provenance": []
  },
  "kernelspec": {
   "display_name": "Python 3",
   "language": "python",
   "name": "python3"
  },
  "language_info": {
   "codemirror_mode": {
    "name": "ipython",
    "version": 3
   },
   "file_extension": ".py",
   "mimetype": "text/x-python",
   "name": "python",
   "nbconvert_exporter": "python",
   "pygments_lexer": "ipython3",
   "version": "3.6.9"
  }
 },
 "nbformat": 4,
 "nbformat_minor": 1
}
